{
 "cells": [
  {
   "cell_type": "code",
   "execution_count": 1,
   "id": "7546f213",
   "metadata": {},
   "outputs": [],
   "source": [
    "import pandas as pd\n",
    "pd.set_option('display.float_format', lambda x : '%.4f' % x)"
   ]
  },
  {
   "cell_type": "code",
   "execution_count": 2,
   "id": "fa8196db",
   "metadata": {},
   "outputs": [],
   "source": [
    "df = pd.read_excel('../data/datos_finales.xlsx')"
   ]
  },
  {
   "cell_type": "markdown",
   "id": "a6bfbdfd",
   "metadata": {},
   "source": [
    "1️⃣ KPIs para columnas categóricas"
   ]
  },
  {
   "cell_type": "code",
   "execution_count": 3,
   "id": "10969956",
   "metadata": {},
   "outputs": [
    {
     "name": "stdout",
     "output_type": "stream",
     "text": [
      "===== KPIs CATEGÓRICOS =====\n",
      "               Unique_values           Top_value Top_count Percentage_top\n",
      "invoiceno               3335              537434       675         0.9001\n",
      "region                     7  sub-saharan africa     19547        26.0661\n",
      "country                  185               sudan       465         0.6201\n",
      "item_type                 12           baby food      6311         8.4158\n",
      "sales_channel              2             offline     37560        50.0867\n",
      "order_priority             4                   l     18794        25.0620\n",
      "ship_day                   7              Monday     10848        14.4659\n"
     ]
    }
   ],
   "source": [
    "categorical_cols = ['invoiceno', 'region', 'country', 'item_type', 'sales_channel', 'order_priority', 'ship_day']\n",
    "\n",
    "cat_summary = {}\n",
    "for col in categorical_cols:\n",
    "    cat_summary[col] = {\n",
    "        'Unique_values': df[col].nunique(),\n",
    "        'Top_value': df[col].mode()[0],\n",
    "        'Top_count': df[col].value_counts().iloc[0],\n",
    "        'Percentage_top': df[col].value_counts(normalize=True).iloc[0]*100\n",
    "    }\n",
    "\n",
    "cat_summary_df = pd.DataFrame(cat_summary).T\n",
    "print(\"===== KPIs CATEGÓRICOS =====\")\n",
    "print(cat_summary_df)\n"
   ]
  },
  {
   "cell_type": "markdown",
   "id": "18a46d28",
   "metadata": {},
   "source": [
    "2️⃣ KPIs para columnas numéricas"
   ]
  },
  {
   "cell_type": "code",
   "execution_count": 4,
   "id": "8340908f",
   "metadata": {},
   "outputs": [
    {
     "name": "stdout",
     "output_type": "stream",
     "text": [
      "\n",
      "===== KPIs NUMÉRICOS =====\n",
      "           units_sold      unit_price       unit_cost      total_revenue  \\\n",
      "sum    374846570.0000 1997094802.0000 1406655412.0000 9992556444320.0000   \n",
      "mean        4998.6207      26631.4816      18757.9065     133251852.8380   \n",
      "median      5006.0000      20570.0000      11711.0000      78704407.0000   \n",
      "std         2882.1819      21683.9361      17556.5770     146885444.2768   \n",
      "min            1.0000        933.0000        692.0000          1866.0000   \n",
      "max        10000.0000      66827.0000      52496.0000     668069519.0000   \n",
      "\n",
      "               total_cost       total_profit  \n",
      "sum    7040268722951.0000 2952287721369.0000  \n",
      "mean        93882767.3417      39369085.4963  \n",
      "median      46424070.5000      28306036.0000  \n",
      "std        114965395.7814      37855879.4327  \n",
      "min             1384.0000           482.0000  \n",
      "max        524907504.0000     173870000.0000  \n",
      "\n",
      "Margen promedio por unidad: 7873.575010001334\n",
      "Margen promedio por pedido: 0.3439542914968468\n"
     ]
    }
   ],
   "source": [
    "numeric_cols = ['units_sold', 'unit_price', 'unit_cost', 'total_revenue', 'total_cost', 'total_profit']\n",
    "\n",
    "num_summary = df[numeric_cols].agg(['sum', 'mean', 'median', 'std', 'min', 'max'])\n",
    "print(\"\\n===== KPIs NUMÉRICOS =====\")\n",
    "print(num_summary)\n",
    "\n",
    "# Margen promedio por unidad\n",
    "df['unit_margin'] = df['unit_price'] - df['unit_cost']\n",
    "print(\"\\nMargen promedio por unidad:\", df['unit_margin'].mean())\n",
    "\n",
    "# Margen promedio por pedido\n",
    "df['order_margin'] = df['total_profit'] / df['total_revenue']\n",
    "print(\"Margen promedio por pedido:\", df['order_margin'].mean())"
   ]
  },
  {
   "cell_type": "markdown",
   "id": "f5364da9",
   "metadata": {},
   "source": [
    "3️⃣ KPIs de clientes y pedidos"
   ]
  },
  {
   "cell_type": "code",
   "execution_count": 5,
   "id": "eaef69d8",
   "metadata": {},
   "outputs": [
    {
     "name": "stdout",
     "output_type": "stream",
     "text": [
      "\n",
      "===== KPIs DE CLIENTES Y PEDIDOS =====\n",
      "Clientes únicos: 1341\n",
      "Pedidos únicos: 74990\n",
      "Promedio de pedidos por cliente: 55.92095451155854\n"
     ]
    }
   ],
   "source": [
    "total_customers = df['customerid'].nunique()\n",
    "total_orders = df['order_id'].nunique()\n",
    "avg_orders_per_customer = total_orders / total_customers\n",
    "\n",
    "print(\"\\n===== KPIs DE CLIENTES Y PEDIDOS =====\")\n",
    "print(\"Clientes únicos:\", total_customers)\n",
    "print(\"Pedidos únicos:\", total_orders)\n",
    "print(\"Promedio de pedidos por cliente:\", avg_orders_per_customer)\n"
   ]
  },
  {
   "cell_type": "markdown",
   "id": "a9619c59",
   "metadata": {},
   "source": [
    "4️⃣ KPIs de fechas"
   ]
  },
  {
   "cell_type": "code",
   "execution_count": 6,
   "id": "ed075494",
   "metadata": {},
   "outputs": [
    {
     "name": "stdout",
     "output_type": "stream",
     "text": [
      "\n",
      "===== KPIs DE TIEMPO DE ENVÍO =====\n",
      "Tiempo promedio de envío (días): 25.043792505667422\n",
      "Tiempo máximo de envío (días): 50\n",
      "Tiempo mínimo de envío (días): 0\n"
     ]
    }
   ],
   "source": [
    "# Tiempo promedio de envío\n",
    "df['order_date'] = pd.to_datetime(df['order_date'])\n",
    "df['ship_date'] = pd.to_datetime(df['ship_date'])\n",
    "df['shipping_time_days'] = (df['ship_date'] - df['order_date']).dt.days\n",
    "\n",
    "print(\"\\n===== KPIs DE TIEMPO DE ENVÍO =====\")\n",
    "print(\"Tiempo promedio de envío (días):\", df['shipping_time_days'].mean())\n",
    "print(\"Tiempo máximo de envío (días):\", df['shipping_time_days'].max())\n",
    "print(\"Tiempo mínimo de envío (días):\", df['shipping_time_days'].min())"
   ]
  },
  {
   "cell_type": "markdown",
   "id": "e3c3d7cc",
   "metadata": {},
   "source": [
    "5️⃣ KPIs combinados"
   ]
  },
  {
   "cell_type": "code",
   "execution_count": 7,
   "id": "62ff3e42",
   "metadata": {},
   "outputs": [
    {
     "name": "stdout",
     "output_type": "stream",
     "text": [
      "\n",
      "===== KPIs COMBINADOS =====\n",
      "\n",
      "Ingresos por región:\n",
      " region\n",
      "asia                                 1436182915934\n",
      "australia and oceania                 810017642474\n",
      "central america and the caribbean    1107175687336\n",
      "europe                               2554909696330\n",
      "middle east and north africa         1257845567083\n",
      "north america                         223304217481\n",
      "sub-saharan africa                   2603120717682\n",
      "Name: total_revenue, dtype: int64\n",
      "\n",
      "Beneficio promedio por tipo de producto:\n",
      " item_type\n",
      "baby food         47861401.8488\n",
      "beverages          7857505.7021\n",
      "cereal            44412355.7602\n",
      "clothes           36950156.7568\n",
      "cosmetics         86462509.3810\n",
      "fruits             1191370.2022\n",
      "household         82887450.8196\n",
      "meat              28753451.9915\n",
      "office supplies   63336550.4766\n",
      "personal care     12503661.7395\n",
      "snacks            27722560.1238\n",
      "vegetables        31245716.0718\n",
      "Name: total_profit, dtype: float64\n",
      "\n",
      "Unidades vendidas por mes:\n",
      " ship_month\n",
      "1     30875708\n",
      "2     29583718\n",
      "3     33379147\n",
      "4     32703894\n",
      "5     34305503\n",
      "6     32620891\n",
      "7     33746194\n",
      "8     31791009\n",
      "9     28454452\n",
      "10    29445142\n",
      "11    28545748\n",
      "12    29395164\n",
      "Name: units_sold, dtype: int64\n",
      "\n",
      "Margen total por país:\n",
      " country\n",
      "afghanistan     16002602438\n",
      "albania         17051130449\n",
      "algeria         15014546596\n",
      "andorra         14055400593\n",
      "angola          14026690221\n",
      "                   ...     \n",
      "vatican city    16606653518\n",
      "vietnam         14461643867\n",
      "yemen           16779267096\n",
      "zambia          15254720461\n",
      "zimbabwe        14315834412\n",
      "Name: total_profit, Length: 185, dtype: int64\n"
     ]
    }
   ],
   "source": [
    "print(\"\\n===== KPIs COMBINADOS =====\")\n",
    "# Ingresos totales por región\n",
    "revenue_by_region = df.groupby('region')['total_revenue'].sum()\n",
    "print(\"\\nIngresos por región:\\n\", revenue_by_region)\n",
    "\n",
    "# Beneficio promedio por tipo de producto\n",
    "profit_by_item = df.groupby('item_type')['total_profit'].mean()\n",
    "print(\"\\nBeneficio promedio por tipo de producto:\\n\", profit_by_item)\n",
    "\n",
    "# Unidades vendidas por mes\n",
    "units_by_month = df.groupby('ship_month')['units_sold'].sum()\n",
    "print(\"\\nUnidades vendidas por mes:\\n\", units_by_month)\n",
    "\n",
    "# Margen total por país\n",
    "profit_by_country = df.groupby('country')['total_profit'].sum()\n",
    "print(\"\\nMargen total por país:\\n\", profit_by_country)"
   ]
  }
 ],
 "metadata": {
  "kernelspec": {
   "display_name": "venv2",
   "language": "python",
   "name": "python3"
  },
  "language_info": {
   "codemirror_mode": {
    "name": "ipython",
    "version": 3
   },
   "file_extension": ".py",
   "mimetype": "text/x-python",
   "name": "python",
   "nbconvert_exporter": "python",
   "pygments_lexer": "ipython3",
   "version": "3.13.2"
  }
 },
 "nbformat": 4,
 "nbformat_minor": 5
}
